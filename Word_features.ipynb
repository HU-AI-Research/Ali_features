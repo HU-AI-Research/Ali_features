{
 "cells": [
  {
   "cell_type": "markdown",
   "metadata": {
    "papermill": {
     "duration": 0.046134,
     "end_time": "2021-01-12T09:22:54.610690",
     "exception": false,
     "start_time": "2021-01-12T09:22:54.564556",
     "status": "completed"
    },
    "tags": []
   },
   "source": [
    "# Detect fake tweet with logistic regression\n"
   ]
  },
  {
   "cell_type": "markdown",
   "metadata": {
    "papermill": {
     "duration": 0.043994,
     "end_time": "2021-01-12T09:22:54.699007",
     "exception": false,
     "start_time": "2021-01-12T09:22:54.655013",
     "status": "completed"
    },
    "tags": []
   },
   "source": [
    "# Importing library\n"
   ]
  },
  {
   "cell_type": "code",
   "execution_count": 2,
   "metadata": {
    "execution": {
     "iopub.execute_input": "2021-01-12T09:23:08.242088Z",
     "iopub.status.busy": "2021-01-12T09:23:08.241164Z",
     "iopub.status.idle": "2021-01-12T09:23:11.371986Z",
     "shell.execute_reply": "2021-01-12T09:23:11.370381Z"
    },
    "papermill": {
     "duration": 3.20008,
     "end_time": "2021-01-12T09:23:11.372184",
     "exception": false,
     "start_time": "2021-01-12T09:23:08.172104",
     "status": "completed"
    },
    "tags": []
   },
   "outputs": [],
   "source": [
    "import pandas as pd\n",
    "import numpy as np\n",
    "import matplotlib.pyplot as plt\n",
    "import seaborn as sns\n",
    "import nltk\n",
    "#nltk.download('wordnet')\n",
    "from nltk.corpus import stopwords\n",
    "#nltk.download('stopwords')\n",
    "from nltk.util import ngrams\n",
    "from nltk.tokenize import word_tokenize\n",
    "from nltk.stem import WordNetLemmatizer\n",
    "#nltk.download('punkt')\n",
    "import sklearn as sk #this is the most popular library for statistics and machine learning\n",
    "import matplotlib.pyplot as plt \n",
    "import os\n",
    "import itertools\n",
    "import collections\n",
    "import re\n",
    "import textstat\n",
    "import networkx\n",
    "import warnings\n",
    "from sklearn.feature_extraction.text import CountVectorizer\n",
    "from sklearn.model_selection import train_test_split\n",
    "from nltk.corpus import wordnet as wn\n",
    "from nltk import pos_tag\n",
    "from sklearn.preprocessing import LabelEncoder\n",
    "from collections import defaultdict\n",
    "from sklearn.feature_extraction.text import TfidfVectorizer\n",
    "from sklearn import model_selection, svm\n",
    "from sklearn.metrics import accuracy_score\n",
    "from sklearn import metrics\n",
    "import string\n",
    "from collections import Counter\n"
   ]
  },
  {
   "cell_type": "markdown",
   "metadata": {
    "papermill": {
     "duration": 0.054871,
     "end_time": "2021-01-12T09:23:11.484406",
     "exception": false,
     "start_time": "2021-01-12T09:23:11.429535",
     "status": "completed"
    },
    "tags": []
   },
   "source": [
    "## Reading data and summarizing"
   ]
  },
  {
   "cell_type": "code",
   "execution_count": 3,
   "metadata": {
    "execution": {
     "iopub.execute_input": "2021-01-12T09:23:11.621211Z",
     "iopub.status.busy": "2021-01-12T09:23:11.620392Z",
     "iopub.status.idle": "2021-01-12T09:23:12.594326Z",
     "shell.execute_reply": "2021-01-12T09:23:12.594852Z"
    },
    "papermill": {
     "duration": 1.054256,
     "end_time": "2021-01-12T09:23:12.595035",
     "exception": false,
     "start_time": "2021-01-12T09:23:11.540779",
     "status": "completed"
    },
    "scrolled": true,
    "tags": []
   },
   "outputs": [
    {
     "data": {
      "text/html": [
       "<div>\n",
       "<style scoped>\n",
       "    .dataframe tbody tr th:only-of-type {\n",
       "        vertical-align: middle;\n",
       "    }\n",
       "\n",
       "    .dataframe tbody tr th {\n",
       "        vertical-align: top;\n",
       "    }\n",
       "\n",
       "    .dataframe thead th {\n",
       "        text-align: right;\n",
       "    }\n",
       "</style>\n",
       "<table border=\"1\" class=\"dataframe\">\n",
       "  <thead>\n",
       "    <tr style=\"text-align: right;\">\n",
       "      <th></th>\n",
       "      <th>tweet_id</th>\n",
       "      <th>text</th>\n",
       "      <th>label</th>\n",
       "    </tr>\n",
       "  </thead>\n",
       "  <tbody>\n",
       "    <tr>\n",
       "      <th>0</th>\n",
       "      <td>1161040537207463936</td>\n",
       "      <td>'RT @SenJeffMerkley: The Endangered Species Ac...</td>\n",
       "      <td>1</td>\n",
       "    </tr>\n",
       "    <tr>\n",
       "      <th>1</th>\n",
       "      <td>1176360756239118342</td>\n",
       "      <td>'RT @LindseyGrahamSC: Interesting concept -- i...</td>\n",
       "      <td>1</td>\n",
       "    </tr>\n",
       "    <tr>\n",
       "      <th>2</th>\n",
       "      <td>1099036648573145088</td>\n",
       "      <td>'RT @RealJamesWoods: #BuildTheWall #DeportThem...</td>\n",
       "      <td>0</td>\n",
       "    </tr>\n",
       "    <tr>\n",
       "      <th>3</th>\n",
       "      <td>1092915693203480577</td>\n",
       "      <td>'RT @PatriotJackiB: Why would the MEXICAN GOV’...</td>\n",
       "      <td>0</td>\n",
       "    </tr>\n",
       "    <tr>\n",
       "      <th>4</th>\n",
       "      <td>1149038450668187654</td>\n",
       "      <td>'RT @TheOnion: Sweden Announces Plan To Get 10...</td>\n",
       "      <td>0</td>\n",
       "    </tr>\n",
       "    <tr>\n",
       "      <th>5</th>\n",
       "      <td>1175456815674343424</td>\n",
       "      <td>'RT @kcResister: Warren: 'Congress is complici...</td>\n",
       "      <td>1</td>\n",
       "    </tr>\n",
       "    <tr>\n",
       "      <th>6</th>\n",
       "      <td>1180809117310623744</td>\n",
       "      <td>'RT @ShimonPro: A dozen current and former sta...</td>\n",
       "      <td>1</td>\n",
       "    </tr>\n",
       "    <tr>\n",
       "      <th>7</th>\n",
       "      <td>1179840318935576578</td>\n",
       "      <td>'RT @samstein: This is a bombshell that isn’t ...</td>\n",
       "      <td>1</td>\n",
       "    </tr>\n",
       "    <tr>\n",
       "      <th>8</th>\n",
       "      <td>1081722778125062144</td>\n",
       "      <td>'Planned Parenthood Erects Billboards Urging W...</td>\n",
       "      <td>0</td>\n",
       "    </tr>\n",
       "    <tr>\n",
       "      <th>9</th>\n",
       "      <td>1158761795739217921</td>\n",
       "      <td>'https://t.co/MvrznF1fWVWhoever obstructing th...</td>\n",
       "      <td>1</td>\n",
       "    </tr>\n",
       "  </tbody>\n",
       "</table>\n",
       "</div>"
      ],
      "text/plain": [
       "              tweet_id                                               text  \\\n",
       "0  1161040537207463936  'RT @SenJeffMerkley: The Endangered Species Ac...   \n",
       "1  1176360756239118342  'RT @LindseyGrahamSC: Interesting concept -- i...   \n",
       "2  1099036648573145088  'RT @RealJamesWoods: #BuildTheWall #DeportThem...   \n",
       "3  1092915693203480577  'RT @PatriotJackiB: Why would the MEXICAN GOV’...   \n",
       "4  1149038450668187654  'RT @TheOnion: Sweden Announces Plan To Get 10...   \n",
       "5  1175456815674343424  'RT @kcResister: Warren: 'Congress is complici...   \n",
       "6  1180809117310623744  'RT @ShimonPro: A dozen current and former sta...   \n",
       "7  1179840318935576578  'RT @samstein: This is a bombshell that isn’t ...   \n",
       "8  1081722778125062144  'Planned Parenthood Erects Billboards Urging W...   \n",
       "9  1158761795739217921  'https://t.co/MvrznF1fWVWhoever obstructing th...   \n",
       "\n",
       "   label  \n",
       "0      1  \n",
       "1      1  \n",
       "2      0  \n",
       "3      0  \n",
       "4      0  \n",
       "5      1  \n",
       "6      1  \n",
       "7      1  \n",
       "8      0  \n",
       "9      1  "
      ]
     },
     "execution_count": 3,
     "metadata": {},
     "output_type": "execute_result"
    }
   ],
   "source": [
    "df = pd.read_csv('../input/fakenews/tweets_labeled.csv')\n",
    "df.head(10)"
   ]
  },
  {
   "cell_type": "code",
   "execution_count": 4,
   "metadata": {
    "execution": {
     "iopub.execute_input": "2021-01-12T09:23:12.712757Z",
     "iopub.status.busy": "2021-01-12T09:23:12.711596Z",
     "iopub.status.idle": "2021-01-12T09:23:12.729705Z",
     "shell.execute_reply": "2021-01-12T09:23:12.730317Z"
    },
    "papermill": {
     "duration": 0.07871,
     "end_time": "2021-01-12T09:23:12.730507",
     "exception": false,
     "start_time": "2021-01-12T09:23:12.651797",
     "status": "completed"
    },
    "tags": []
   },
   "outputs": [],
   "source": [
    "df = df[['text','label']]"
   ]
  },
  {
   "cell_type": "markdown",
   "metadata": {
    "papermill": {
     "duration": 0.059114,
     "end_time": "2021-01-12T09:23:12.846991",
     "exception": false,
     "start_time": "2021-01-12T09:23:12.787877",
     "status": "completed"
    },
    "tags": []
   },
   "source": [
    "## Extract Features"
   ]
  },
  {
   "cell_type": "code",
   "execution_count": 5,
   "metadata": {
    "execution": {
     "iopub.execute_input": "2021-01-12T09:23:12.966403Z",
     "iopub.status.busy": "2021-01-12T09:23:12.965270Z",
     "iopub.status.idle": "2021-01-12T09:23:12.971202Z",
     "shell.execute_reply": "2021-01-12T09:23:12.971821Z"
    },
    "papermill": {
     "duration": 0.068065,
     "end_time": "2021-01-12T09:23:12.972002",
     "exception": false,
     "start_time": "2021-01-12T09:23:12.903937",
     "status": "completed"
    },
    "tags": []
   },
   "outputs": [],
   "source": [
    "def contains_hashtag(tweet):\n",
    "    if '#' in tweet:\n",
    "        return 1\n",
    "    else:\n",
    "        return 0"
   ]
  },
  {
   "cell_type": "code",
   "execution_count": 6,
   "metadata": {
    "execution": {
     "iopub.execute_input": "2021-01-12T09:23:13.093064Z",
     "iopub.status.busy": "2021-01-12T09:23:13.091835Z",
     "iopub.status.idle": "2021-01-12T09:23:13.304433Z",
     "shell.execute_reply": "2021-01-12T09:23:13.305096Z"
    },
    "papermill": {
     "duration": 0.276138,
     "end_time": "2021-01-12T09:23:13.305280",
     "exception": false,
     "start_time": "2021-01-12T09:23:13.029142",
     "status": "completed"
    },
    "tags": []
   },
   "outputs": [],
   "source": [
    "df['contains_hashtag'] = df['text'].apply(lambda x: contains_hashtag(x))"
   ]
  },
  {
   "cell_type": "code",
   "execution_count": 7,
   "metadata": {
    "execution": {
     "iopub.execute_input": "2021-01-12T09:23:13.424589Z",
     "iopub.status.busy": "2021-01-12T09:23:13.423436Z",
     "iopub.status.idle": "2021-01-12T09:23:13.428951Z",
     "shell.execute_reply": "2021-01-12T09:23:13.429596Z"
    },
    "papermill": {
     "duration": 0.066461,
     "end_time": "2021-01-12T09:23:13.429792",
     "exception": false,
     "start_time": "2021-01-12T09:23:13.363331",
     "status": "completed"
    },
    "tags": []
   },
   "outputs": [],
   "source": [
    "def count_hashtag(tweet):\n",
    "    return tweet.count('#')"
   ]
  },
  {
   "cell_type": "code",
   "execution_count": 8,
   "metadata": {
    "execution": {
     "iopub.execute_input": "2021-01-12T09:23:13.548976Z",
     "iopub.status.busy": "2021-01-12T09:23:13.547539Z",
     "iopub.status.idle": "2021-01-12T09:23:13.808964Z",
     "shell.execute_reply": "2021-01-12T09:23:13.809541Z"
    },
    "papermill": {
     "duration": 0.322746,
     "end_time": "2021-01-12T09:23:13.809761",
     "exception": false,
     "start_time": "2021-01-12T09:23:13.487015",
     "status": "completed"
    },
    "tags": []
   },
   "outputs": [],
   "source": [
    "df['count_hashtag'] = df['text'].apply(lambda x: count_hashtag(x))"
   ]
  },
  {
   "cell_type": "code",
   "execution_count": 9,
   "metadata": {
    "execution": {
     "iopub.execute_input": "2021-01-12T09:23:13.930916Z",
     "iopub.status.busy": "2021-01-12T09:23:13.929701Z",
     "iopub.status.idle": "2021-01-12T09:23:13.935762Z",
     "shell.execute_reply": "2021-01-12T09:23:13.936450Z"
    },
    "papermill": {
     "duration": 0.069483,
     "end_time": "2021-01-12T09:23:13.936679",
     "exception": false,
     "start_time": "2021-01-12T09:23:13.867196",
     "status": "completed"
    },
    "tags": []
   },
   "outputs": [],
   "source": [
    "def contains_link(tweet):\n",
    "    #if a tweet contains a link (has 'https://' in it) return 1 (true) otherwise return 0 (false)\n",
    "    if 'https://' in tweet:\n",
    "        return 1\n",
    "    else:\n",
    "        return 0"
   ]
  },
  {
   "cell_type": "code",
   "execution_count": 10,
   "metadata": {
    "execution": {
     "iopub.execute_input": "2021-01-12T09:23:14.058866Z",
     "iopub.status.busy": "2021-01-12T09:23:14.057714Z",
     "iopub.status.idle": "2021-01-12T09:23:14.303008Z",
     "shell.execute_reply": "2021-01-12T09:23:14.303616Z"
    },
    "papermill": {
     "duration": 0.307657,
     "end_time": "2021-01-12T09:23:14.303819",
     "exception": false,
     "start_time": "2021-01-12T09:23:13.996162",
     "status": "completed"
    },
    "tags": []
   },
   "outputs": [],
   "source": [
    "df['contains_link'] = df['text'].apply(lambda x: contains_link(x))"
   ]
  },
  {
   "cell_type": "code",
   "execution_count": 11,
   "metadata": {
    "execution": {
     "iopub.execute_input": "2021-01-12T09:23:14.425727Z",
     "iopub.status.busy": "2021-01-12T09:23:14.424932Z",
     "iopub.status.idle": "2021-01-12T09:23:14.429774Z",
     "shell.execute_reply": "2021-01-12T09:23:14.430366Z"
    },
    "papermill": {
     "duration": 0.067306,
     "end_time": "2021-01-12T09:23:14.430547",
     "exception": false,
     "start_time": "2021-01-12T09:23:14.363241",
     "status": "completed"
    },
    "tags": []
   },
   "outputs": [],
   "source": [
    "def count_link(tweet):\n",
    "    return tweet.count('https://')"
   ]
  },
  {
   "cell_type": "code",
   "execution_count": 12,
   "metadata": {
    "execution": {
     "iopub.execute_input": "2021-01-12T09:23:14.551241Z",
     "iopub.status.busy": "2021-01-12T09:23:14.550465Z",
     "iopub.status.idle": "2021-01-12T09:23:14.787692Z",
     "shell.execute_reply": "2021-01-12T09:23:14.788436Z"
    },
    "papermill": {
     "duration": 0.299621,
     "end_time": "2021-01-12T09:23:14.788634",
     "exception": false,
     "start_time": "2021-01-12T09:23:14.489013",
     "status": "completed"
    },
    "tags": []
   },
   "outputs": [],
   "source": [
    "df['count_link'] = df['text'].apply(lambda x: contains_link(x))"
   ]
  },
  {
   "cell_type": "code",
   "execution_count": 13,
   "metadata": {
    "execution": {
     "iopub.execute_input": "2021-01-12T09:23:14.906417Z",
     "iopub.status.busy": "2021-01-12T09:23:14.905526Z",
     "iopub.status.idle": "2021-01-12T09:23:14.910687Z",
     "shell.execute_reply": "2021-01-12T09:23:14.911294Z"
    },
    "papermill": {
     "duration": 0.065987,
     "end_time": "2021-01-12T09:23:14.911469",
     "exception": false,
     "start_time": "2021-01-12T09:23:14.845482",
     "status": "completed"
    },
    "tags": []
   },
   "outputs": [],
   "source": [
    "def contains_mention(tweet):\n",
    "    if '@' in tweet:\n",
    "        return 1\n",
    "    else:\n",
    "        return 0"
   ]
  },
  {
   "cell_type": "code",
   "execution_count": 14,
   "metadata": {
    "execution": {
     "iopub.execute_input": "2021-01-12T09:23:15.043189Z",
     "iopub.status.busy": "2021-01-12T09:23:15.037429Z",
     "iopub.status.idle": "2021-01-12T09:23:15.247603Z",
     "shell.execute_reply": "2021-01-12T09:23:15.246663Z"
    },
    "papermill": {
     "duration": 0.278818,
     "end_time": "2021-01-12T09:23:15.247771",
     "exception": false,
     "start_time": "2021-01-12T09:23:14.968953",
     "status": "completed"
    },
    "tags": []
   },
   "outputs": [],
   "source": [
    "df['contains_mention'] = df['text'].apply(lambda x: contains_mention(x))"
   ]
  },
  {
   "cell_type": "code",
   "execution_count": 15,
   "metadata": {
    "execution": {
     "iopub.execute_input": "2021-01-12T09:23:15.376329Z",
     "iopub.status.busy": "2021-01-12T09:23:15.375561Z",
     "iopub.status.idle": "2021-01-12T09:23:15.378268Z",
     "shell.execute_reply": "2021-01-12T09:23:15.378780Z"
    },
    "papermill": {
     "duration": 0.068575,
     "end_time": "2021-01-12T09:23:15.378973",
     "exception": false,
     "start_time": "2021-01-12T09:23:15.310398",
     "status": "completed"
    },
    "tags": []
   },
   "outputs": [],
   "source": [
    "def count_mention(tweet):\n",
    "    return tweet.count('@')"
   ]
  },
  {
   "cell_type": "code",
   "execution_count": 16,
   "metadata": {
    "execution": {
     "iopub.execute_input": "2021-01-12T09:23:15.502111Z",
     "iopub.status.busy": "2021-01-12T09:23:15.501338Z",
     "iopub.status.idle": "2021-01-12T09:23:15.755020Z",
     "shell.execute_reply": "2021-01-12T09:23:15.755605Z"
    },
    "papermill": {
     "duration": 0.319066,
     "end_time": "2021-01-12T09:23:15.755832",
     "exception": false,
     "start_time": "2021-01-12T09:23:15.436766",
     "status": "completed"
    },
    "tags": []
   },
   "outputs": [],
   "source": [
    "df['count_mention'] = df['text'].apply(lambda x: count_mention(x))"
   ]
  },
  {
   "cell_type": "code",
   "execution_count": 17,
   "metadata": {
    "execution": {
     "iopub.execute_input": "2021-01-12T09:23:15.878599Z",
     "iopub.status.busy": "2021-01-12T09:23:15.877854Z",
     "iopub.status.idle": "2021-01-12T09:23:15.883354Z",
     "shell.execute_reply": "2021-01-12T09:23:15.883916Z"
    },
    "papermill": {
     "duration": 0.069592,
     "end_time": "2021-01-12T09:23:15.884108",
     "exception": false,
     "start_time": "2021-01-12T09:23:15.814516",
     "status": "completed"
    },
    "tags": []
   },
   "outputs": [],
   "source": [
    "def is_retweet(tweet):\n",
    "    regexp = re.compile('(RT @.*: )')\n",
    "    if regexp.search(tweet):\n",
    "        return 1\n",
    "    else:\n",
    "        return 0"
   ]
  },
  {
   "cell_type": "code",
   "execution_count": 18,
   "metadata": {
    "execution": {
     "iopub.execute_input": "2021-01-12T09:23:16.007151Z",
     "iopub.status.busy": "2021-01-12T09:23:16.006284Z",
     "iopub.status.idle": "2021-01-12T09:23:16.622606Z",
     "shell.execute_reply": "2021-01-12T09:23:16.623282Z"
    },
    "papermill": {
     "duration": 0.680559,
     "end_time": "2021-01-12T09:23:16.623458",
     "exception": false,
     "start_time": "2021-01-12T09:23:15.942899",
     "status": "completed"
    },
    "tags": []
   },
   "outputs": [],
   "source": [
    "df['is_retweet'] = df['text'].apply(lambda x: is_retweet(x))"
   ]
  },
  {
   "cell_type": "code",
   "execution_count": 19,
   "metadata": {
    "execution": {
     "iopub.execute_input": "2021-01-12T09:23:16.746787Z",
     "iopub.status.busy": "2021-01-12T09:23:16.745812Z",
     "iopub.status.idle": "2021-01-12T09:23:16.750682Z",
     "shell.execute_reply": "2021-01-12T09:23:16.751239Z"
    },
    "papermill": {
     "duration": 0.067138,
     "end_time": "2021-01-12T09:23:16.751410",
     "exception": false,
     "start_time": "2021-01-12T09:23:16.684272",
     "status": "completed"
    },
    "tags": []
   },
   "outputs": [],
   "source": [
    "def count_3dots(tweet):\n",
    "    return tweet.count('…') + tweet.count('...')"
   ]
  },
  {
   "cell_type": "code",
   "execution_count": 20,
   "metadata": {
    "execution": {
     "iopub.execute_input": "2021-01-12T09:23:16.871265Z",
     "iopub.status.busy": "2021-01-12T09:23:16.870491Z",
     "iopub.status.idle": "2021-01-12T09:23:17.203414Z",
     "shell.execute_reply": "2021-01-12T09:23:17.204131Z"
    },
    "papermill": {
     "duration": 0.394546,
     "end_time": "2021-01-12T09:23:17.204332",
     "exception": false,
     "start_time": "2021-01-12T09:23:16.809786",
     "status": "completed"
    },
    "tags": []
   },
   "outputs": [],
   "source": [
    "df['count_3dots'] = df['text'].apply(lambda x: count_3dots(x))"
   ]
  },
  {
   "cell_type": "code",
   "execution_count": 21,
   "metadata": {
    "execution": {
     "iopub.execute_input": "2021-01-12T09:23:17.331136Z",
     "iopub.status.busy": "2021-01-12T09:23:17.329908Z",
     "iopub.status.idle": "2021-01-12T09:23:17.333787Z",
     "shell.execute_reply": "2021-01-12T09:23:17.333054Z"
    },
    "papermill": {
     "duration": 0.070419,
     "end_time": "2021-01-12T09:23:17.333942",
     "exception": false,
     "start_time": "2021-01-12T09:23:17.263523",
     "status": "completed"
    },
    "tags": []
   },
   "outputs": [],
   "source": [
    "def count_capital_letters(tweet):\n",
    "    return sum(1 for c in tweet if c.isupper())"
   ]
  },
  {
   "cell_type": "code",
   "execution_count": 22,
   "metadata": {
    "execution": {
     "iopub.execute_input": "2021-01-12T09:23:17.465133Z",
     "iopub.status.busy": "2021-01-12T09:23:17.463714Z",
     "iopub.status.idle": "2021-01-12T09:23:19.622312Z",
     "shell.execute_reply": "2021-01-12T09:23:19.621444Z"
    },
    "papermill": {
     "duration": 2.22909,
     "end_time": "2021-01-12T09:23:19.622477",
     "exception": false,
     "start_time": "2021-01-12T09:23:17.393387",
     "status": "completed"
    },
    "tags": []
   },
   "outputs": [],
   "source": [
    "df['count_capital_letters'] = df['text'].apply(lambda x: count_capital_letters(x))"
   ]
  },
  {
   "cell_type": "code",
   "execution_count": 23,
   "metadata": {
    "execution": {
     "iopub.execute_input": "2021-01-12T09:23:19.752576Z",
     "iopub.status.busy": "2021-01-12T09:23:19.751486Z",
     "iopub.status.idle": "2021-01-12T09:23:19.754954Z",
     "shell.execute_reply": "2021-01-12T09:23:19.754221Z"
    },
    "papermill": {
     "duration": 0.06854,
     "end_time": "2021-01-12T09:23:19.755089",
     "exception": false,
     "start_time": "2021-01-12T09:23:19.686549",
     "status": "completed"
    },
    "tags": []
   },
   "outputs": [],
   "source": [
    "def count_capital_letters_to_length(tweet):\n",
    "    return sum(1 for c in tweet if c.isupper()) / len(tweet)"
   ]
  },
  {
   "cell_type": "code",
   "execution_count": 24,
   "metadata": {
    "execution": {
     "iopub.execute_input": "2021-01-12T09:23:19.899245Z",
     "iopub.status.busy": "2021-01-12T09:23:19.883178Z",
     "iopub.status.idle": "2021-01-12T09:23:22.164926Z",
     "shell.execute_reply": "2021-01-12T09:23:22.164198Z"
    },
    "papermill": {
     "duration": 2.350234,
     "end_time": "2021-01-12T09:23:22.165075",
     "exception": false,
     "start_time": "2021-01-12T09:23:19.814841",
     "status": "completed"
    },
    "tags": []
   },
   "outputs": [],
   "source": [
    "df['count_capital_letters_to_length'] = df['text'].apply(lambda x: count_capital_letters_to_length(x))"
   ]
  },
  {
   "cell_type": "code",
   "execution_count": 25,
   "metadata": {
    "execution": {
     "iopub.execute_input": "2021-01-12T09:23:22.294241Z",
     "iopub.status.busy": "2021-01-12T09:23:22.293187Z",
     "iopub.status.idle": "2021-01-12T09:23:22.305349Z",
     "shell.execute_reply": "2021-01-12T09:23:22.304589Z"
    },
    "papermill": {
     "duration": 0.080668,
     "end_time": "2021-01-12T09:23:22.305493",
     "exception": false,
     "start_time": "2021-01-12T09:23:22.224825",
     "status": "completed"
    },
    "tags": []
   },
   "outputs": [],
   "source": [
    "stop_words = set(stopwords.words('english'))\n",
    "def count_stop_words(tweet):\n",
    "    word_tokens = word_tokenize(tweet)\n",
    "    return sum(1 for w in word_tokens if w in stop_words)"
   ]
  },
  {
   "cell_type": "code",
   "execution_count": 26,
   "metadata": {
    "execution": {
     "iopub.execute_input": "2021-01-12T09:23:22.436212Z",
     "iopub.status.busy": "2021-01-12T09:23:22.435455Z",
     "iopub.status.idle": "2021-01-12T09:24:48.550083Z",
     "shell.execute_reply": "2021-01-12T09:24:48.550805Z"
    },
    "papermill": {
     "duration": 86.184885,
     "end_time": "2021-01-12T09:24:48.551016",
     "exception": false,
     "start_time": "2021-01-12T09:23:22.366131",
     "status": "completed"
    },
    "tags": []
   },
   "outputs": [],
   "source": [
    "df['count_stop_words'] = df['text'].apply(lambda x: count_stop_words(x))"
   ]
  },
  {
   "cell_type": "code",
   "execution_count": 27,
   "metadata": {
    "execution": {
     "iopub.execute_input": "2021-01-12T09:24:48.705157Z",
     "iopub.status.busy": "2021-01-12T09:24:48.703816Z",
     "iopub.status.idle": "2021-01-12T09:24:48.708608Z",
     "shell.execute_reply": "2021-01-12T09:24:48.709624Z"
    },
    "papermill": {
     "duration": 0.086302,
     "end_time": "2021-01-12T09:24:48.709935",
     "exception": false,
     "start_time": "2021-01-12T09:24:48.623633",
     "status": "completed"
    },
    "tags": []
   },
   "outputs": [],
   "source": [
    "def count_special_chars(tweet):\n",
    "    word_tokens = word_tokenize(tweet)\n",
    "    return sum(1 for w in word_tokens if w in stop_words)"
   ]
  },
  {
   "cell_type": "code",
   "execution_count": 28,
   "metadata": {
    "execution": {
     "iopub.execute_input": "2021-01-12T09:24:48.845132Z",
     "iopub.status.busy": "2021-01-12T09:24:48.844430Z",
     "iopub.status.idle": "2021-01-12T09:26:15.444190Z",
     "shell.execute_reply": "2021-01-12T09:26:15.444773Z"
    },
    "papermill": {
     "duration": 86.661991,
     "end_time": "2021-01-12T09:26:15.444994",
     "exception": false,
     "start_time": "2021-01-12T09:24:48.783003",
     "status": "completed"
    },
    "tags": []
   },
   "outputs": [],
   "source": [
    "df['count_special_chars'] = df['text'].apply(lambda x: count_special_chars(x))"
   ]
  },
  {
   "cell_type": "code",
   "execution_count": 29,
   "metadata": {
    "execution": {
     "iopub.execute_input": "2021-01-12T09:26:15.568896Z",
     "iopub.status.busy": "2021-01-12T09:26:15.567737Z",
     "iopub.status.idle": "2021-01-12T09:26:15.575565Z",
     "shell.execute_reply": "2021-01-12T09:26:15.576156Z"
    },
    "papermill": {
     "duration": 0.07187,
     "end_time": "2021-01-12T09:26:15.576353",
     "exception": false,
     "start_time": "2021-01-12T09:26:15.504483",
     "status": "completed"
    },
    "tags": []
   },
   "outputs": [],
   "source": [
    "def count_special_chars(tweet):\n",
    "    count = 0\n",
    "    for i in range(0, len(tweet)):\n",
    "    # len(string) function to count the \n",
    "    # number of characters in given string.      \n",
    "        #.isalpha() function checks whether character \n",
    "        #is alphabet or not.\n",
    "        if (tweet[i].isalpha()):\n",
    "            continue\n",
    "        #.isdigit() function checks whether character \n",
    "        #is a number or not.\n",
    "        elif (tweet[i].isdigit()):\n",
    "            continue\n",
    "        else:\n",
    "            count += 1\n",
    "            \n",
    "    return count"
   ]
  },
  {
   "cell_type": "code",
   "execution_count": 30,
   "metadata": {
    "execution": {
     "iopub.execute_input": "2021-01-12T09:26:15.701438Z",
     "iopub.status.busy": "2021-01-12T09:26:15.700285Z",
     "iopub.status.idle": "2021-01-12T09:26:19.724971Z",
     "shell.execute_reply": "2021-01-12T09:26:19.725531Z"
    },
    "papermill": {
     "duration": 4.089135,
     "end_time": "2021-01-12T09:26:19.725753",
     "exception": false,
     "start_time": "2021-01-12T09:26:15.636618",
     "status": "completed"
    },
    "tags": []
   },
   "outputs": [],
   "source": [
    "df['count_special_chars'] = df['text'].apply(lambda x: count_special_chars(x))"
   ]
  },
  {
   "cell_type": "code",
   "execution_count": 31,
   "metadata": {
    "execution": {
     "iopub.execute_input": "2021-01-12T09:26:19.852215Z",
     "iopub.status.busy": "2021-01-12T09:26:19.851039Z",
     "iopub.status.idle": "2021-01-12T09:26:19.857506Z",
     "shell.execute_reply": "2021-01-12T09:26:19.858062Z"
    },
    "papermill": {
     "duration": 0.071181,
     "end_time": "2021-01-12T09:26:19.858250",
     "exception": false,
     "start_time": "2021-01-12T09:26:19.787069",
     "status": "completed"
    },
    "tags": []
   },
   "outputs": [],
   "source": [
    "def count_digits(tweet): \n",
    "    count = 0\n",
    "    for i in range(0, len(tweet)):\n",
    "        if (tweet[i].isdigit()):\n",
    "            count += 1\n",
    "    return count"
   ]
  },
  {
   "cell_type": "code",
   "execution_count": 32,
   "metadata": {
    "execution": {
     "iopub.execute_input": "2021-01-12T09:26:19.984639Z",
     "iopub.status.busy": "2021-01-12T09:26:19.983458Z",
     "iopub.status.idle": "2021-01-12T09:26:22.866407Z",
     "shell.execute_reply": "2021-01-12T09:26:22.866969Z"
    },
    "papermill": {
     "duration": 2.948969,
     "end_time": "2021-01-12T09:26:22.867171",
     "exception": false,
     "start_time": "2021-01-12T09:26:19.918202",
     "status": "completed"
    },
    "tags": []
   },
   "outputs": [],
   "source": [
    "df['count_digits'] = df['text'].apply(lambda x: count_digits(x))"
   ]
  },
  {
   "cell_type": "code",
   "execution_count": 33,
   "metadata": {
    "execution": {
     "iopub.execute_input": "2021-01-12T09:26:22.992677Z",
     "iopub.status.busy": "2021-01-12T09:26:22.991544Z",
     "iopub.status.idle": "2021-01-12T09:26:22.998820Z",
     "shell.execute_reply": "2021-01-12T09:26:22.998112Z"
    },
    "papermill": {
     "duration": 0.072259,
     "end_time": "2021-01-12T09:26:22.998962",
     "exception": false,
     "start_time": "2021-01-12T09:26:22.926703",
     "status": "completed"
    },
    "tags": []
   },
   "outputs": [],
   "source": [
    "def count_alphabets(tweet): \n",
    "    count = 0\n",
    "    for i in range(0, len(tweet)):\n",
    "        if (tweet[i].isalpha()):\n",
    "            count += 1\n",
    "    return count"
   ]
  },
  {
   "cell_type": "code",
   "execution_count": 34,
   "metadata": {
    "execution": {
     "iopub.execute_input": "2021-01-12T09:26:23.126517Z",
     "iopub.status.busy": "2021-01-12T09:26:23.125732Z",
     "iopub.status.idle": "2021-01-12T09:26:27.409003Z",
     "shell.execute_reply": "2021-01-12T09:26:27.409625Z"
    },
    "papermill": {
     "duration": 4.348967,
     "end_time": "2021-01-12T09:26:27.409839",
     "exception": false,
     "start_time": "2021-01-12T09:26:23.060872",
     "status": "completed"
    },
    "tags": []
   },
   "outputs": [],
   "source": [
    "df['count_alphabets'] = df['text'].apply(lambda x: count_alphabets(x))"
   ]
  },
  {
   "cell_type": "markdown",
   "metadata": {
    "papermill": {
     "duration": 0.058966,
     "end_time": "2021-01-12T09:26:27.528843",
     "exception": false,
     "start_time": "2021-01-12T09:26:27.469877",
     "status": "completed"
    },
    "tags": []
   },
   "source": [
    "Before cleaning (bc)"
   ]
  },
  {
   "cell_type": "code",
   "execution_count": 35,
   "metadata": {
    "execution": {
     "iopub.execute_input": "2021-01-12T09:26:27.677470Z",
     "iopub.status.busy": "2021-01-12T09:26:27.676669Z",
     "iopub.status.idle": "2021-01-12T09:26:29.486146Z",
     "shell.execute_reply": "2021-01-12T09:26:29.485080Z"
    },
    "papermill": {
     "duration": 1.88487,
     "end_time": "2021-01-12T09:26:29.486410",
     "exception": false,
     "start_time": "2021-01-12T09:26:27.601540",
     "status": "completed"
    },
    "tags": []
   },
   "outputs": [],
   "source": [
    "df['bc_length'] = df['text'].apply(lambda x: len(x))\n",
    "df['bc_words_count'] = df['text'].apply(lambda x: len(x.split()))\n",
    "df['bc_words_average_length'] = df['text'].apply(lambda x: sum(len(word) for word in x.split()) / len(x.split()))"
   ]
  },
  {
   "cell_type": "code",
   "execution_count": 36,
   "metadata": {
    "execution": {
     "iopub.execute_input": "2021-01-12T09:26:29.615988Z",
     "iopub.status.busy": "2021-01-12T09:26:29.615143Z",
     "iopub.status.idle": "2021-01-12T09:26:29.618638Z",
     "shell.execute_reply": "2021-01-12T09:26:29.618028Z"
    },
    "papermill": {
     "duration": 0.071988,
     "end_time": "2021-01-12T09:26:29.618792",
     "exception": false,
     "start_time": "2021-01-12T09:26:29.546804",
     "status": "completed"
    },
    "tags": []
   },
   "outputs": [],
   "source": [
    "# Remove emojies from code\n",
    "def remove_emoji(text):\n",
    "    emoji_pattern = re.compile(\"[\"\n",
    "                           u\"\\U0001F600-\\U0001F64F\"  # emoticons\n",
    "                           u\"\\U0001F300-\\U0001F5FF\"  # symbols & pictographs\n",
    "                           u\"\\U0001F680-\\U0001F6FF\"  # transport & map symbols\n",
    "                           u\"\\U0001F1E0-\\U0001F1FF\"  # flags (iOS)\n",
    "                           u\"\\U00002702-\\U000027B0\"\n",
    "                           u\"\\U000024C2-\\U0001F251\"\n",
    "                           \"]+\", flags=re.UNICODE)\n",
    "    \n",
    "    return emoji_pattern.sub(r'', text)"
   ]
  },
  {
   "cell_type": "code",
   "execution_count": 37,
   "metadata": {
    "execution": {
     "iopub.execute_input": "2021-01-12T09:26:29.749014Z",
     "iopub.status.busy": "2021-01-12T09:26:29.748262Z",
     "iopub.status.idle": "2021-01-12T09:26:32.355518Z",
     "shell.execute_reply": "2021-01-12T09:26:32.354854Z"
    },
    "papermill": {
     "duration": 2.674226,
     "end_time": "2021-01-12T09:26:32.355695",
     "exception": false,
     "start_time": "2021-01-12T09:26:29.681469",
     "status": "completed"
    },
    "tags": []
   },
   "outputs": [],
   "source": [
    "df['text'] = df['text'].apply(lambda x: remove_emoji(x))"
   ]
  },
  {
   "cell_type": "code",
   "execution_count": 38,
   "metadata": {
    "execution": {
     "iopub.execute_input": "2021-01-12T09:26:32.492204Z",
     "iopub.status.busy": "2021-01-12T09:26:32.488612Z",
     "iopub.status.idle": "2021-01-12T09:26:34.534469Z",
     "shell.execute_reply": "2021-01-12T09:26:34.535145Z"
    },
    "papermill": {
     "duration": 2.118293,
     "end_time": "2021-01-12T09:26:34.535330",
     "exception": false,
     "start_time": "2021-01-12T09:26:32.417037",
     "status": "completed"
    },
    "tags": []
   },
   "outputs": [],
   "source": [
    "df['count_open_parentheses'] = df['text'].apply(lambda x: x.count('('))\n",
    "df['count_close_parentheses'] = df['text'].apply(lambda x: x.count(')'))\n",
    "df['count_exclamation_mark'] = df['text'].apply(lambda x: x.count('!'))\n",
    "df['count_question_mark'] = df['text'].apply(lambda x: x.count('?'))\n",
    "df['count_|'] = df['text'].apply(lambda x: x.count('|'))\n",
    "df['count_percentage_sign'] = df['text'].apply(lambda x: x.count('%'))\n",
    "df['count_comma'] = df['text'].apply(lambda x: x.count(','))\n",
    "df['count_plus'] = df['text'].apply(lambda x: x.count('+'))\n",
    "df['count_minus'] = df['text'].apply(lambda x: x.count('-'))"
   ]
  },
  {
   "cell_type": "markdown",
   "metadata": {
    "papermill": {
     "duration": 0.061117,
     "end_time": "2021-01-12T09:26:34.659080",
     "exception": false,
     "start_time": "2021-01-12T09:26:34.597963",
     "status": "completed"
    },
    "tags": []
   },
   "source": [
    "## Cleaning"
   ]
  },
  {
   "cell_type": "code",
   "execution_count": 39,
   "metadata": {
    "execution": {
     "iopub.execute_input": "2021-01-12T09:26:34.807492Z",
     "iopub.status.busy": "2021-01-12T09:26:34.806250Z",
     "iopub.status.idle": "2021-01-12T09:26:34.810596Z",
     "shell.execute_reply": "2021-01-12T09:26:34.809879Z"
    },
    "papermill": {
     "duration": 0.087189,
     "end_time": "2021-01-12T09:26:34.810757",
     "exception": false,
     "start_time": "2021-01-12T09:26:34.723568",
     "status": "completed"
    },
    "tags": []
   },
   "outputs": [],
   "source": [
    "def clean_word():\n",
    "    word = df['text'].str.replace(r'RT\\s', '')\n",
    "    word = word.str.replace(\"}\", \"\")\n",
    "    word = word.str.replace(\"{\", \"\")\n",
    "    word = word.str.replace(\"-\", \"\")\n",
    "    word = word.str.replace(\"--\", \"\")\n",
    "    word = word.str.replace(\"|\", \"\")\n",
    "    word = word.str.replace(\"¦\", \"\")\n",
    "    word = word.str.replace(\",\", \"\")\n",
    "    word = word.str.replace(\".\", \"\")\n",
    "    word = word.str.replace(\":\", \"\")\n",
    "    word = word.str.replace(\"?\", \"\")\n",
    "    word = word.str.replace(\"#\", \"\")\n",
    "    word = word.str.replace(\"(\", \"\")\n",
    "    word = word.str.replace(\")\", \"\")\n",
    "    word = word.str.replace(\"!\", \"\")\n",
    "    word = word.str.replace(\";\", \"\")\n",
    "    word = word.str.replace(\"&\", \"\")\n",
    "    word = word.str.replace(\"'\", \"\")\n",
    "    word = word.str.replace('—', \"\")\n",
    "    word = word.str.replace(\"i'm\", \"i am\")\n",
    "    word = word.str.replace(\"it's\", \"it is\")\n",
    "    word = word.str.replace(r'RT\\s', '')\n",
    "    word = word.str.replace(r'@\\S*?\\s', '')\n",
    "    word = word.str.replace(r'@\\S*?$', '')\n",
    "    word = word.str.replace(r'https\\S*?\\s', ' ')  \n",
    "    word = word.str.replace(r'https\\S*?$', '')\n",
    "    word = word.str.replace('\\'', '')\n",
    "    word = word.str.replace(r'…', '')\n",
    "    word = word.str.replace(r'\\s$', '')\n",
    "    df['text'] = word "
   ]
  },
  {
   "cell_type": "code",
   "execution_count": 40,
   "metadata": {
    "execution": {
     "iopub.execute_input": "2021-01-12T09:26:34.987751Z",
     "iopub.status.busy": "2021-01-12T09:26:34.971188Z",
     "iopub.status.idle": "2021-01-12T09:26:43.701540Z",
     "shell.execute_reply": "2021-01-12T09:26:43.702125Z"
    },
    "papermill": {
     "duration": 8.828862,
     "end_time": "2021-01-12T09:26:43.702332",
     "exception": false,
     "start_time": "2021-01-12T09:26:34.873470",
     "status": "completed"
    },
    "tags": []
   },
   "outputs": [],
   "source": [
    "clean_word()"
   ]
  },
  {
   "cell_type": "code",
   "execution_count": 41,
   "metadata": {
    "execution": {
     "iopub.execute_input": "2021-01-12T09:26:43.831098Z",
     "iopub.status.busy": "2021-01-12T09:26:43.830339Z",
     "iopub.status.idle": "2021-01-12T09:26:43.836835Z",
     "shell.execute_reply": "2021-01-12T09:26:43.837352Z"
    },
    "papermill": {
     "duration": 0.073022,
     "end_time": "2021-01-12T09:26:43.837532",
     "exception": false,
     "start_time": "2021-01-12T09:26:43.764510",
     "status": "completed"
    },
    "tags": []
   },
   "outputs": [],
   "source": [
    "stop = stopwords.words('english')\n",
    "\n",
    "def words_only_count(tweet):\n",
    "    words = tweet.split()\n",
    "    words_only = [word for word in words if word not in stop and\n",
    "              not word.startswith(('#', '@'))]\n",
    "    return len(words_only)"
   ]
  },
  {
   "cell_type": "markdown",
   "metadata": {
    "papermill": {
     "duration": 0.062804,
     "end_time": "2021-01-12T09:26:43.961569",
     "exception": false,
     "start_time": "2021-01-12T09:26:43.898765",
     "status": "completed"
    },
    "tags": []
   },
   "source": [
    "Negative words:"
   ]
  },
  {
   "cell_type": "code",
   "execution_count": 42,
   "metadata": {
    "execution": {
     "iopub.execute_input": "2021-01-12T09:26:44.091432Z",
     "iopub.status.busy": "2021-01-12T09:26:44.090687Z",
     "iopub.status.idle": "2021-01-12T09:26:45.262832Z",
     "shell.execute_reply": "2021-01-12T09:26:45.263399Z"
    },
    "papermill": {
     "duration": 1.238928,
     "end_time": "2021-01-12T09:26:45.263603",
     "exception": false,
     "start_time": "2021-01-12T09:26:44.024675",
     "status": "completed"
    },
    "tags": []
   },
   "outputs": [],
   "source": [
    "df['count_illegal'] = df['text'].apply(lambda x: x.lower().count('illegal'))\n",
    "df['count_breitbart'] = df['text'].apply(lambda x: x.lower().count('breitbart'))\n",
    "df['count_alien'] = df['text'].apply(lambda x: x.lower().count('alien'))\n",
    "df['count_bad'] = df['text'].apply(lambda x: x.lower().count('bad'))"
   ]
  },
  {
   "cell_type": "markdown",
   "metadata": {
    "papermill": {
     "duration": 0.061949,
     "end_time": "2021-01-12T09:26:45.387115",
     "exception": false,
     "start_time": "2021-01-12T09:26:45.325166",
     "status": "completed"
    },
    "tags": []
   },
   "source": [
    "positive words:"
   ]
  },
  {
   "cell_type": "code",
   "execution_count": 43,
   "metadata": {
    "execution": {
     "iopub.execute_input": "2021-01-12T09:26:45.516274Z",
     "iopub.status.busy": "2021-01-12T09:26:45.515419Z",
     "iopub.status.idle": "2021-01-12T09:26:46.123354Z",
     "shell.execute_reply": "2021-01-12T09:26:46.124137Z"
    },
    "papermill": {
     "duration": 0.67293,
     "end_time": "2021-01-12T09:26:46.124373",
     "exception": false,
     "start_time": "2021-01-12T09:26:45.451443",
     "status": "completed"
    },
    "tags": []
   },
   "outputs": [],
   "source": [
    "df['count_good'] = df['text'].apply(lambda x: x.lower().count('good'))\n",
    "df['count_great'] = df['text'].apply(lambda x: x.lower().count('great'))"
   ]
  },
  {
   "cell_type": "code",
   "execution_count": 44,
   "metadata": {
    "execution": {
     "iopub.execute_input": "2021-01-12T09:26:46.264307Z",
     "iopub.status.busy": "2021-01-12T09:26:46.257626Z",
     "iopub.status.idle": "2021-01-12T09:26:54.731842Z",
     "shell.execute_reply": "2021-01-12T09:26:54.731131Z"
    },
    "papermill": {
     "duration": 8.541697,
     "end_time": "2021-01-12T09:26:54.731985",
     "exception": false,
     "start_time": "2021-01-12T09:26:46.190288",
     "status": "completed"
    },
    "tags": []
   },
   "outputs": [],
   "source": [
    "df['words_only_count'] = df['text'].apply(lambda x: words_only_count(x))"
   ]
  },
  {
   "cell_type": "markdown",
   "metadata": {
    "papermill": {
     "duration": 0.060566,
     "end_time": "2021-01-12T09:26:54.855270",
     "exception": false,
     "start_time": "2021-01-12T09:26:54.794704",
     "status": "completed"
    },
    "tags": []
   },
   "source": [
    "After cleaning (ac)"
   ]
  },
  {
   "cell_type": "code",
   "execution_count": 45,
   "metadata": {
    "execution": {
     "iopub.execute_input": "2021-01-12T09:26:54.992453Z",
     "iopub.status.busy": "2021-01-12T09:26:54.991421Z",
     "iopub.status.idle": "2021-01-12T09:26:55.540498Z",
     "shell.execute_reply": "2021-01-12T09:26:55.541132Z"
    },
    "papermill": {
     "duration": 0.625187,
     "end_time": "2021-01-12T09:26:55.541323",
     "exception": false,
     "start_time": "2021-01-12T09:26:54.916136",
     "status": "completed"
    },
    "tags": []
   },
   "outputs": [],
   "source": [
    "df['ac_length'] = df['text'].apply(lambda x: len(x))\n",
    "df['ac_words_count'] = df['text'].apply(lambda x: len(x.split()))\n",
    "# df['ac_words_average_length'] = df['text'].apply(lambda x: sum(len(word) for word in x.split()) / len(x.split()))"
   ]
  },
  {
   "cell_type": "code",
   "execution_count": 46,
   "metadata": {
    "execution": {
     "iopub.execute_input": "2021-01-12T09:26:55.871205Z",
     "iopub.status.busy": "2021-01-12T09:26:55.677216Z",
     "iopub.status.idle": "2021-01-12T09:27:16.840936Z",
     "shell.execute_reply": "2021-01-12T09:27:16.841570Z"
    },
    "papermill": {
     "duration": 21.237895,
     "end_time": "2021-01-12T09:27:16.841779",
     "exception": false,
     "start_time": "2021-01-12T09:26:55.603884",
     "status": "completed"
    },
    "tags": []
   },
   "outputs": [],
   "source": [
    "df['readability'] = df['text'].apply(textstat.flesch_reading_ease)"
   ]
  },
  {
   "cell_type": "code",
   "execution_count": 47,
   "metadata": {
    "execution": {
     "iopub.execute_input": "2021-01-12T09:27:16.971991Z",
     "iopub.status.busy": "2021-01-12T09:27:16.971229Z",
     "iopub.status.idle": "2021-01-12T09:27:16.998839Z",
     "shell.execute_reply": "2021-01-12T09:27:16.999445Z"
    },
    "papermill": {
     "duration": 0.094569,
     "end_time": "2021-01-12T09:27:16.999642",
     "exception": false,
     "start_time": "2021-01-12T09:27:16.905073",
     "status": "completed"
    },
    "tags": []
   },
   "outputs": [
    {
     "data": {
      "text/html": [
       "<div>\n",
       "<style scoped>\n",
       "    .dataframe tbody tr th:only-of-type {\n",
       "        vertical-align: middle;\n",
       "    }\n",
       "\n",
       "    .dataframe tbody tr th {\n",
       "        vertical-align: top;\n",
       "    }\n",
       "\n",
       "    .dataframe thead th {\n",
       "        text-align: right;\n",
       "    }\n",
       "</style>\n",
       "<table border=\"1\" class=\"dataframe\">\n",
       "  <thead>\n",
       "    <tr style=\"text-align: right;\">\n",
       "      <th></th>\n",
       "      <th>text</th>\n",
       "      <th>label</th>\n",
       "      <th>contains_hashtag</th>\n",
       "      <th>count_hashtag</th>\n",
       "      <th>contains_link</th>\n",
       "      <th>count_link</th>\n",
       "      <th>contains_mention</th>\n",
       "      <th>count_mention</th>\n",
       "      <th>is_retweet</th>\n",
       "      <th>count_3dots</th>\n",
       "      <th>...</th>\n",
       "      <th>count_illegal</th>\n",
       "      <th>count_breitbart</th>\n",
       "      <th>count_alien</th>\n",
       "      <th>count_bad</th>\n",
       "      <th>count_good</th>\n",
       "      <th>count_great</th>\n",
       "      <th>words_only_count</th>\n",
       "      <th>ac_length</th>\n",
       "      <th>ac_words_count</th>\n",
       "      <th>readability</th>\n",
       "    </tr>\n",
       "  </thead>\n",
       "  <tbody>\n",
       "    <tr>\n",
       "      <th>0</th>\n",
       "      <td>The Endangered Species Act saved the bald eagl...</td>\n",
       "      <td>1</td>\n",
       "      <td>0</td>\n",
       "      <td>0</td>\n",
       "      <td>0</td>\n",
       "      <td>0</td>\n",
       "      <td>1</td>\n",
       "      <td>1</td>\n",
       "      <td>1</td>\n",
       "      <td>1</td>\n",
       "      <td>...</td>\n",
       "      <td>0</td>\n",
       "      <td>0</td>\n",
       "      <td>0</td>\n",
       "      <td>0</td>\n",
       "      <td>0</td>\n",
       "      <td>0</td>\n",
       "      <td>13</td>\n",
       "      <td>117</td>\n",
       "      <td>21</td>\n",
       "      <td>58.62</td>\n",
       "    </tr>\n",
       "    <tr>\n",
       "      <th>1</th>\n",
       "      <td>Interesting concept  impeach first find facts ...</td>\n",
       "      <td>1</td>\n",
       "      <td>0</td>\n",
       "      <td>0</td>\n",
       "      <td>0</td>\n",
       "      <td>0</td>\n",
       "      <td>1</td>\n",
       "      <td>1</td>\n",
       "      <td>1</td>\n",
       "      <td>1</td>\n",
       "      <td>...</td>\n",
       "      <td>0</td>\n",
       "      <td>0</td>\n",
       "      <td>0</td>\n",
       "      <td>0</td>\n",
       "      <td>0</td>\n",
       "      <td>0</td>\n",
       "      <td>16</td>\n",
       "      <td>111</td>\n",
       "      <td>17</td>\n",
       "      <td>45.76</td>\n",
       "    </tr>\n",
       "    <tr>\n",
       "      <th>2</th>\n",
       "      <td>BuildTheWall DeportThemAll</td>\n",
       "      <td>0</td>\n",
       "      <td>1</td>\n",
       "      <td>2</td>\n",
       "      <td>1</td>\n",
       "      <td>1</td>\n",
       "      <td>1</td>\n",
       "      <td>1</td>\n",
       "      <td>1</td>\n",
       "      <td>0</td>\n",
       "      <td>...</td>\n",
       "      <td>0</td>\n",
       "      <td>0</td>\n",
       "      <td>0</td>\n",
       "      <td>0</td>\n",
       "      <td>0</td>\n",
       "      <td>0</td>\n",
       "      <td>2</td>\n",
       "      <td>27</td>\n",
       "      <td>2</td>\n",
       "      <td>-91.30</td>\n",
       "    </tr>\n",
       "    <tr>\n",
       "      <th>3</th>\n",
       "      <td>Why would the MEXICAN GOV’T fund this Who are ...</td>\n",
       "      <td>0</td>\n",
       "      <td>0</td>\n",
       "      <td>0</td>\n",
       "      <td>1</td>\n",
       "      <td>1</td>\n",
       "      <td>1</td>\n",
       "      <td>1</td>\n",
       "      <td>1</td>\n",
       "      <td>0</td>\n",
       "      <td>...</td>\n",
       "      <td>0</td>\n",
       "      <td>0</td>\n",
       "      <td>0</td>\n",
       "      <td>0</td>\n",
       "      <td>0</td>\n",
       "      <td>0</td>\n",
       "      <td>7</td>\n",
       "      <td>66</td>\n",
       "      <td>13</td>\n",
       "      <td>83.66</td>\n",
       "    </tr>\n",
       "    <tr>\n",
       "      <th>4</th>\n",
       "      <td>Sweden Announces Plan To Get 100% Of Energy Fr...</td>\n",
       "      <td>0</td>\n",
       "      <td>0</td>\n",
       "      <td>0</td>\n",
       "      <td>1</td>\n",
       "      <td>1</td>\n",
       "      <td>1</td>\n",
       "      <td>1</td>\n",
       "      <td>1</td>\n",
       "      <td>1</td>\n",
       "      <td>...</td>\n",
       "      <td>0</td>\n",
       "      <td>0</td>\n",
       "      <td>0</td>\n",
       "      <td>0</td>\n",
       "      <td>0</td>\n",
       "      <td>0</td>\n",
       "      <td>16</td>\n",
       "      <td>90</td>\n",
       "      <td>16</td>\n",
       "      <td>55.24</td>\n",
       "    </tr>\n",
       "  </tbody>\n",
       "</table>\n",
       "<p>5 rows × 38 columns</p>\n",
       "</div>"
      ],
      "text/plain": [
       "                                                text  label  contains_hashtag  \\\n",
       "0  The Endangered Species Act saved the bald eagl...      1                 0   \n",
       "1  Interesting concept  impeach first find facts ...      1                 0   \n",
       "2                        BuildTheWall DeportThemAll       0                 1   \n",
       "3  Why would the MEXICAN GOV’T fund this Who are ...      0                 0   \n",
       "4  Sweden Announces Plan To Get 100% Of Energy Fr...      0                 0   \n",
       "\n",
       "   count_hashtag  contains_link  count_link  contains_mention  count_mention  \\\n",
       "0              0              0           0                 1              1   \n",
       "1              0              0           0                 1              1   \n",
       "2              2              1           1                 1              1   \n",
       "3              0              1           1                 1              1   \n",
       "4              0              1           1                 1              1   \n",
       "\n",
       "   is_retweet  count_3dots  ...  count_illegal  count_breitbart  count_alien  \\\n",
       "0           1            1  ...              0                0            0   \n",
       "1           1            1  ...              0                0            0   \n",
       "2           1            0  ...              0                0            0   \n",
       "3           1            0  ...              0                0            0   \n",
       "4           1            1  ...              0                0            0   \n",
       "\n",
       "   count_bad  count_good  count_great  words_only_count  ac_length  \\\n",
       "0          0           0            0                13        117   \n",
       "1          0           0            0                16        111   \n",
       "2          0           0            0                 2         27   \n",
       "3          0           0            0                 7         66   \n",
       "4          0           0            0                16         90   \n",
       "\n",
       "   ac_words_count  readability  \n",
       "0              21        58.62  \n",
       "1              17        45.76  \n",
       "2               2       -91.30  \n",
       "3              13        83.66  \n",
       "4              16        55.24  \n",
       "\n",
       "[5 rows x 38 columns]"
      ]
     },
     "execution_count": 47,
     "metadata": {},
     "output_type": "execute_result"
    }
   ],
   "source": [
    "df.head()"
   ]
  },
  {
   "cell_type": "code",
   "execution_count": 48,
   "metadata": {
    "execution": {
     "iopub.execute_input": "2021-01-12T09:27:17.130314Z",
     "iopub.status.busy": "2021-01-12T09:27:17.129441Z",
     "iopub.status.idle": "2021-01-12T09:27:17.137447Z",
     "shell.execute_reply": "2021-01-12T09:27:17.136893Z"
    },
    "papermill": {
     "duration": 0.074147,
     "end_time": "2021-01-12T09:27:17.137580",
     "exception": false,
     "start_time": "2021-01-12T09:27:17.063433",
     "status": "completed"
    },
    "tags": []
   },
   "outputs": [
    {
     "data": {
      "text/plain": [
       "Index(['text', 'label', 'contains_hashtag', 'count_hashtag', 'contains_link',\n",
       "       'count_link', 'contains_mention', 'count_mention', 'is_retweet',\n",
       "       'count_3dots', 'count_capital_letters',\n",
       "       'count_capital_letters_to_length', 'count_stop_words',\n",
       "       'count_special_chars', 'count_digits', 'count_alphabets', 'bc_length',\n",
       "       'bc_words_count', 'bc_words_average_length', 'count_open_parentheses',\n",
       "       'count_close_parentheses', 'count_exclamation_mark',\n",
       "       'count_question_mark', 'count_|', 'count_percentage_sign',\n",
       "       'count_comma', 'count_plus', 'count_minus', 'count_illegal',\n",
       "       'count_breitbart', 'count_alien', 'count_bad', 'count_good',\n",
       "       'count_great', 'words_only_count', 'ac_length', 'ac_words_count',\n",
       "       'readability'],\n",
       "      dtype='object')"
      ]
     },
     "execution_count": 48,
     "metadata": {},
     "output_type": "execute_result"
    }
   ],
   "source": [
    "df.columns"
   ]
  },
  {
   "cell_type": "markdown",
   "metadata": {
    "papermill": {
     "duration": 0.06591,
     "end_time": "2021-01-12T09:27:17.267814",
     "exception": false,
     "start_time": "2021-01-12T09:27:17.201904",
     "status": "completed"
    },
    "tags": []
   },
   "source": [
    "## Correlation between features and label"
   ]
  },
  {
   "cell_type": "code",
   "execution_count": 49,
   "metadata": {
    "execution": {
     "iopub.execute_input": "2021-01-12T09:27:17.404377Z",
     "iopub.status.busy": "2021-01-12T09:27:17.403549Z",
     "iopub.status.idle": "2021-01-12T09:27:19.133476Z",
     "shell.execute_reply": "2021-01-12T09:27:19.132630Z"
    },
    "papermill": {
     "duration": 1.800124,
     "end_time": "2021-01-12T09:27:19.133616",
     "exception": false,
     "start_time": "2021-01-12T09:27:17.333492",
     "status": "completed"
    },
    "tags": []
   },
   "outputs": [
    {
     "data": {
      "text/plain": [
       "<matplotlib.axes._subplots.AxesSubplot at 0x7fdc73891950>"
      ]
     },
     "execution_count": 49,
     "metadata": {},
     "output_type": "execute_result"
    },
    {
     "data": {
      "image/png": "[encoded data removed]",
      "text/plain": [
       "<Figure size 1440x1440 with 2 Axes>"
      ]
     },
     "metadata": {
      "needs_background": "light"
     },
     "output_type": "display_data"
    }
   ],
   "source": [
    "plt.figure(figsize=(20,20))\n",
    "sns.heatmap(df.loc[:, ~df.columns.isin(['text'])].corr())"
   ]
  }
 ],
 "metadata": {
  "kernelspec": {
   "display_name": "Python 3",
   "language": "python",
   "name": "python3"
  },
  "language_info": {
   "codemirror_mode": {
    "name": "ipython",
    "version": 3
   },
   "file_extension": ".py",
   "mimetype": "text/x-python",
   "name": "python",
   "nbconvert_exporter": "python",
   "pygments_lexer": "ipython3",
   "version": "3.8.3"
  },
  "papermill": {
   "duration": 277.447607,
   "end_time": "2021-01-12T09:27:26.398351",
   "environment_variables": {},
   "exception": null,
   "input_path": "__notebook__.ipynb",
   "output_path": "__notebook__.ipynb",
   "parameters": {},
   "start_time": "2021-01-12T09:22:48.950744",
   "version": "2.1.0"
  },
  "toc": {
   "base_numbering": 1,
   "nav_menu": {},
   "number_sections": true,
   "sideBar": true,
   "skip_h1_title": false,
   "title_cell": "Table of Contents",
   "title_sidebar": "Contents",
   "toc_cell": false,
   "toc_position": {},
   "toc_section_display": true,
   "toc_window_display": false
  }
 },
 "nbformat": 4,
 "nbformat_minor": 4
}
